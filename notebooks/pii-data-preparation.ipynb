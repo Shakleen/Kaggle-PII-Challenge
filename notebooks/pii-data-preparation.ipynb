{
 "cells": [
  {
   "cell_type": "code",
   "execution_count": 1,
   "id": "3ea32975",
   "metadata": {},
   "outputs": [],
   "source": [
    "import os\n",
    "os.chdir(\"../\")"
   ]
  },
  {
   "cell_type": "markdown",
   "id": "6597fa24",
   "metadata": {
    "papermill": {
     "duration": 0.009828,
     "end_time": "2024-02-26T02:41:34.599051",
     "exception": false,
     "start_time": "2024-02-26T02:41:34.589223",
     "status": "completed"
    },
    "tags": []
   },
   "source": [
    "# PII Detection: Data Preparation"
   ]
  },
  {
   "cell_type": "code",
   "execution_count": 2,
   "id": "dcff599d",
   "metadata": {
    "execution": {
     "iopub.execute_input": "2024-02-26T02:41:34.620585Z",
     "iopub.status.busy": "2024-02-26T02:41:34.619733Z",
     "iopub.status.idle": "2024-02-26T02:41:35.940632Z",
     "shell.execute_reply": "2024-02-26T02:41:35.939505Z"
    },
    "papermill": {
     "duration": 1.334634,
     "end_time": "2024-02-26T02:41:35.943310",
     "exception": false,
     "start_time": "2024-02-26T02:41:34.608676",
     "status": "completed"
    },
    "tags": []
   },
   "outputs": [],
   "source": [
    "import pandas as pd\n",
    "\n",
    "from src.data import rebuild_text, split_rows"
   ]
  },
  {
   "cell_type": "markdown",
   "id": "a144fcfa",
   "metadata": {
    "papermill": {
     "duration": 0.009749,
     "end_time": "2024-02-26T02:41:35.962609",
     "exception": false,
     "start_time": "2024-02-26T02:41:35.952860",
     "status": "completed"
    },
    "tags": []
   },
   "source": [
    "Additional Datasets\n",
    "\n",
    "1. [Nicholas](https://www.kaggle.com/datasets/nbroad/pii-dd-mistral-generated)\n",
    "2. [Pj Mathematician](https://www.kaggle.com/competitions/pii-detection-removal-from-educational-data/discussion/470921)\n",
    "3. [Moth](https://www.kaggle.com/competitions/pii-detection-removal-from-educational-data/discussion/469493)\n",
    "4. [Valentin](https://www.kaggle.com/datasets/valentinwerner/pii-label-specific-data)\n",
    "5. [Mpware](https://www.kaggle.com/datasets/mpware/pii-mixtral8x7b-generated-essays)\n",
    "6. [No Fit Just Luck](kaggle.com/datasets/tonyarobertson/mixtral-original-prompt)\n",
    "7. [Dileep](https://www.kaggle.com/datasets/dileepjayamal/pii-detect-gpt3-5-synthetic-data-8k)\n",
    "\n",
    "The version of PJM and Moth's dataset that was cleaned by Valentin is used here."
   ]
  },
  {
   "cell_type": "code",
   "execution_count": 3,
   "id": "b93fd96b",
   "metadata": {
    "execution": {
     "iopub.execute_input": "2024-02-26T02:41:36.040885Z",
     "iopub.status.busy": "2024-02-26T02:41:36.040266Z",
     "iopub.status.idle": "2024-02-26T02:41:42.122275Z",
     "shell.execute_reply": "2024-02-26T02:41:42.121004Z"
    },
    "papermill": {
     "duration": 6.095781,
     "end_time": "2024-02-26T02:41:42.125037",
     "exception": false,
     "start_time": "2024-02-26T02:41:36.029256",
     "status": "completed"
    },
    "tags": []
   },
   "outputs": [],
   "source": [
    "comp_df = pd.read_json(\"Dataset/competition/train.json\")\n",
    "nbroad_df = pd.read_json(\"Dataset/nbroad/mixtral-8x7b-v1.json\")\n",
    "pjm_df = pd.read_json(\"Dataset/pjm_moth/pii_dataset_fixed.json\")\n",
    "nfjl_df = pd.read_json(\"Dataset/no_fit_just_luck/Fake_data_1850_218.json\")\n",
    "mpware_df = pd.read_json(\"Dataset/mpware/mpware_mixtral8x7b_v1.1-no-i-username.json\")\n",
    "\n",
    "dileep_df = pd.read_json(\"Dataset/dileep/PII_Detect_GPT3.5_Generated_data_v1.json\")\n",
    "dileep_df[\"full_text\"] = dileep_df.apply(lambda row: rebuild_text(row[\"tokens\"], row[\"trailing_whitespace\"]), axis=1)\n",
    "dileep_df[\"document\"] = list(range(dileep_df.shape[0]))\n",
    "\n",
    "valentin_df = pd.read_json(\"Dataset/valentin/all_labels.json\")\n",
    "valentin_df[\"full_text\"] = valentin_df.apply(lambda row: rebuild_text(row[\"tokens\"], row[\"trailing_whitespace\"]), axis=1)\n",
    "valentin_df[\"document\"] = list(range(valentin_df.shape[0]))\n",
    "\n",
    "moth_df = pd.read_json(\"Dataset/pjm_moth/moredata_dataset_fixed.json\")\n",
    "\n",
    "newton_df = pd.concat([\n",
    "    pd.read_json(\"Dataset/newton/pii_dataset_Gemini_NEWTON_BABA.json\"),\n",
    "    pd.read_json(\"Dataset/newton/pii_dataset_gemma.json\"),\n",
    "])\n",
    "newton_df.document = list(range(newton_df.shape[0]))\n",
    "newton_df.set_index(\"document\", inplace=True)"
   ]
  },
  {
   "cell_type": "markdown",
   "id": "e522dfec",
   "metadata": {
    "papermill": {
     "duration": 0.013321,
     "end_time": "2024-02-26T02:41:42.151179",
     "exception": false,
     "start_time": "2024-02-26T02:41:42.137858",
     "status": "completed"
    },
    "tags": []
   },
   "source": [
    "### Highlevel data overview"
   ]
  },
  {
   "cell_type": "code",
   "execution_count": 4,
   "id": "63e28a3f",
   "metadata": {
    "execution": {
     "iopub.execute_input": "2024-02-26T02:41:42.173280Z",
     "iopub.status.busy": "2024-02-26T02:41:42.171882Z",
     "iopub.status.idle": "2024-02-26T02:41:42.181186Z",
     "shell.execute_reply": "2024-02-26T02:41:42.178976Z"
    },
    "papermill": {
     "duration": 0.022761,
     "end_time": "2024-02-26T02:41:42.183624",
     "exception": false,
     "start_time": "2024-02-26T02:41:42.160863",
     "status": "completed"
    },
    "tags": []
   },
   "outputs": [
    {
     "name": "stdout",
     "output_type": "stream",
     "text": [
      "Competition training data shape: (6807, 5)\n",
      "Moth data shape: (2000, 5)\n",
      "Nicholas data shape: (2355, 5)\n",
      "PJ Mathematician data shape: (4434, 5)\n",
      "Valentin's data shape: (4367, 5)\n",
      "MPWare's data shape: (2692, 5)\n",
      "Dileep's data shape: (8281, 5)\n",
      "No Fit Just Luck's data shape: (1850, 5)\n",
      "Newton's data shape: (5169, 4)\n"
     ]
    }
   ],
   "source": [
    "print(\"Competition training data shape:\", comp_df.shape)\n",
    "print(\"Moth data shape:\", moth_df.shape)\n",
    "print(\"Nicholas data shape:\", nbroad_df.shape)\n",
    "print(\"PJ Mathematician data shape:\", pjm_df.shape)\n",
    "print(\"Valentin's data shape:\", valentin_df.shape)\n",
    "print(\"MPWare's data shape:\", mpware_df.shape)\n",
    "print(\"Dileep's data shape:\", dileep_df.shape)\n",
    "print(\"No Fit Just Luck's data shape:\", nfjl_df.shape)\n",
    "print(\"Newton's data shape:\", newton_df.shape)"
   ]
  },
  {
   "cell_type": "markdown",
   "id": "4a1dbb0b",
   "metadata": {
    "papermill": {
     "duration": 0.013339,
     "end_time": "2024-02-26T02:41:43.033804",
     "exception": false,
     "start_time": "2024-02-26T02:41:43.020465",
     "status": "completed"
    },
    "tags": []
   },
   "source": [
    "### Token distribution\n",
    "\n",
    "https://www.kaggle.com/code/ishfar/pii-data-preparation-cv-stride-viz-and-w-b/edit"
   ]
  },
  {
   "cell_type": "code",
   "execution_count": 5,
   "id": "677a27fa",
   "metadata": {
    "execution": {
     "iopub.execute_input": "2024-02-26T02:41:43.063679Z",
     "iopub.status.busy": "2024-02-26T02:41:43.063224Z",
     "iopub.status.idle": "2024-02-26T02:41:44.074450Z",
     "shell.execute_reply": "2024-02-26T02:41:44.073316Z"
    },
    "papermill": {
     "duration": 1.03182,
     "end_time": "2024-02-26T02:41:44.076957",
     "exception": false,
     "start_time": "2024-02-26T02:41:43.045137",
     "status": "completed"
    },
    "tags": []
   },
   "outputs": [],
   "source": [
    "from sklearn.preprocessing import MultiLabelBinarizer\n",
    "from itertools import chain"
   ]
  },
  {
   "cell_type": "code",
   "execution_count": 6,
   "id": "e4714ea9",
   "metadata": {
    "execution": {
     "iopub.execute_input": "2024-02-26T02:41:44.100416Z",
     "iopub.status.busy": "2024-02-26T02:41:44.099944Z",
     "iopub.status.idle": "2024-02-26T02:41:44.719592Z",
     "shell.execute_reply": "2024-02-26T02:41:44.718153Z"
    },
    "papermill": {
     "duration": 0.634491,
     "end_time": "2024-02-26T02:41:44.722643",
     "exception": false,
     "start_time": "2024-02-26T02:41:44.088152",
     "status": "completed"
    },
    "tags": []
   },
   "outputs": [],
   "source": [
    "def encode_labels(df):\n",
    "    df[\"unique_labels\"] = df[\"labels\"].apply(\n",
    "        lambda x: list(set([l.split(\"-\")[1] for l in x if l != \"O\"]))\n",
    "    )\n",
    "\n",
    "    # add 1-hot encoding\n",
    "    mlb = MultiLabelBinarizer()\n",
    "    one_hot_encoded = mlb.fit_transform(df[\"unique_labels\"])\n",
    "    one_hot_df = pd.DataFrame(one_hot_encoded, columns=mlb.classes_)\n",
    "    df = pd.concat([df, one_hot_df], axis=1)\n",
    "\n",
    "    # add 'OTHER' column\n",
    "    df[\"NO_PII\"] = df[\"unique_labels\"].apply(lambda x: 1 if len(x) == 0 else 0)\n",
    "\n",
    "    return df, list(mlb.classes_) + [\"NO_PII\"]\n",
    "\n",
    "\n",
    "comp_df, label_classes = encode_labels(comp_df)\n",
    "moth_df, label_classes = encode_labels(moth_df)\n",
    "pjm_df, label_classes = encode_labels(pjm_df)\n",
    "nbroad_df, label_classes = encode_labels(nbroad_df)\n",
    "valentin_df, label_classes = encode_labels(valentin_df)\n",
    "nfjl_df, label_classes = encode_labels(nfjl_df)\n",
    "dileep_df, label_classes = encode_labels(dileep_df)\n",
    "newton_df, label_classes = encode_labels(newton_df)\n",
    "mpware_df, label_classes = encode_labels(mpware_df)"
   ]
  },
  {
   "cell_type": "code",
   "execution_count": 7,
   "id": "46a83cbb",
   "metadata": {},
   "outputs": [
    {
     "name": "stdout",
     "output_type": "stream",
     "text": [
      "['B-EMAIL', 'B-ID_NUM', 'B-NAME_STUDENT', 'B-PHONE_NUM', 'B-STREET_ADDRESS', 'B-URL_PERSONAL', 'B-USERNAME', 'I-ID_NUM', 'I-NAME_STUDENT', 'I-PHONE_NUM', 'I-STREET_ADDRESS', 'I-URL_PERSONAL', 'O']\n",
      "['B-EMAIL', 'B-ID_NUM', 'B-NAME_STUDENT', 'B-PHONE_NUM', 'B-STREET_ADDRESS', 'B-URL_PERSONAL', 'B-USERNAME', 'I-ID_NUM', 'I-NAME_STUDENT', 'I-PHONE_NUM', 'I-STREET_ADDRESS', 'O']\n",
      "['B-EMAIL', 'B-NAME_STUDENT', 'B-PHONE_NUM', 'B-STREET_ADDRESS', 'B-URL_PERSONAL', 'B-USERNAME', 'I-NAME_STUDENT', 'I-PHONE_NUM', 'I-STREET_ADDRESS', 'O']\n",
      "['B-EMAIL', 'B-ID_NUM', 'B-NAME_STUDENT', 'B-PHONE_NUM', 'B-STREET_ADDRESS', 'B-URL_PERSONAL', 'B-USERNAME', 'I-ID_NUM', 'I-NAME_STUDENT', 'I-PHONE_NUM', 'I-STREET_ADDRESS', 'O']\n",
      "['B-EMAIL', 'B-ID_NUM', 'B-NAME_STUDENT', 'B-PHONE_NUM', 'B-STREET_ADDRESS', 'B-URL_PERSONAL', 'B-USERNAME', 'I-NAME_STUDENT', 'I-PHONE_NUM', 'I-STREET_ADDRESS', 'O']\n",
      "['B-EMAIL', 'B-ID_NUM', 'B-NAME_STUDENT', 'B-PHONE_NUM', 'B-STREET_ADDRESS', 'B-URL_PERSONAL', 'B-USERNAME', 'I-ID_NUM', 'I-NAME_STUDENT', 'I-PHONE_NUM', 'I-STREET_ADDRESS', 'I-URL_PERSONAL', 'O']\n",
      "['B-EMAIL', 'B-ID_NUM', 'B-NAME_STUDENT', 'B-PHONE_NUM', 'B-STREET_ADDRESS', 'B-URL_PERSONAL', 'B-USERNAME', 'I-ID_NUM', 'I-NAME_STUDENT', 'I-PHONE_NUM', 'I-STREET_ADDRESS', 'I-URL_PERSONAL', 'O']\n",
      "['B-EMAIL', 'B-ID_NUM', 'B-NAME_STUDENT', 'B-PHONE_NUM', 'B-STREET_ADDRESS', 'B-URL_PERSONAL', 'B-USERNAME', 'I-EMAIL', 'I-ID_NUM', 'I-NAME_STUDENT', 'I-PHONE_NUM', 'I-STREET_ADDRESS', 'I-URL_PERSONAL', 'I-USERNAME', 'O']\n",
      "['B-EMAIL', 'B-ID_NUM', 'B-NAME_STUDENT', 'B-PHONE_NUM', 'B-STREET_ADDRESS', 'B-URL_PERSONAL', 'B-USERNAME', 'I-ID_NUM', 'I-NAME_STUDENT', 'I-PHONE_NUM', 'I-STREET_ADDRESS', 'O']\n"
     ]
    }
   ],
   "source": [
    "for df in [comp_df, moth_df, pjm_df, nbroad_df, valentin_df, nfjl_df, dileep_df, newton_df, mpware_df]:\n",
    "    all_labels = sorted(list(set(chain(*[x for x in df.labels.values]))))\n",
    "    print(all_labels)"
   ]
  },
  {
   "cell_type": "code",
   "execution_count": 8,
   "id": "43385422",
   "metadata": {},
   "outputs": [
    {
     "data": {
      "text/plain": [
       "(4726, 13)"
      ]
     },
     "execution_count": 8,
     "metadata": {},
     "output_type": "execute_result"
    }
   ],
   "source": [
    "newton_df = newton_df[~newton_df.labels.apply(lambda x: any(y in [\"I-EMAIL\", \"I-USERNAME\"] for y in x))]\n",
    "newton_df.shape"
   ]
  },
  {
   "cell_type": "markdown",
   "id": "4a2d04e6",
   "metadata": {
    "papermill": {
     "duration": 0.010958,
     "end_time": "2024-02-26T02:41:45.261616",
     "exception": false,
     "start_time": "2024-02-26T02:41:45.250658",
     "status": "completed"
    },
    "tags": []
   },
   "source": [
    "### CV Split"
   ]
  },
  {
   "cell_type": "code",
   "execution_count": 9,
   "id": "a2a58d2f",
   "metadata": {
    "execution": {
     "iopub.execute_input": "2024-02-26T02:41:45.285378Z",
     "iopub.status.busy": "2024-02-26T02:41:45.284999Z",
     "iopub.status.idle": "2024-02-26T02:41:45.347000Z",
     "shell.execute_reply": "2024-02-26T02:41:45.345541Z"
    },
    "papermill": {
     "duration": 0.076435,
     "end_time": "2024-02-26T02:41:45.349265",
     "exception": false,
     "start_time": "2024-02-26T02:41:45.272830",
     "status": "completed"
    },
    "tags": []
   },
   "outputs": [
    {
     "name": "stdout",
     "output_type": "stream",
     "text": [
      "VALID EMAIL: 13\n",
      "TRAIN EMAIL: 11\n",
      "VALID ID_NUM: 13\n",
      "TRAIN ID_NUM: 20\n",
      "VALID NAME_STUDENT: 124\n",
      "TRAIN NAME_STUDENT: 767\n",
      "VALID PHONE_NUM: 4\n",
      "TRAIN PHONE_NUM: 0\n",
      "VALID STREET_ADDRESS: 2\n",
      "TRAIN STREET_ADDRESS: 0\n",
      "VALID URL_PERSONAL: 26\n",
      "TRAIN URL_PERSONAL: 46\n",
      "VALID USERNAME: 5\n",
      "TRAIN USERNAME: 0\n",
      "VALID NO_PII: 1000\n",
      "TRAIN NO_PII: 4862\n"
     ]
    }
   ],
   "source": [
    "# Shuffle the dataframe\n",
    "comp_df = comp_df.sample(frac=1, random_state=42)\n",
    "\n",
    "# Create a 'valid' column and set it to False\n",
    "comp_df['valid'] = False\n",
    "\n",
    "# Define the validation numbers\n",
    "val_nums = {\n",
    "    'EMAIL': 12,\n",
    "    'ID_NUM': 12,\n",
    "    'NAME_STUDENT': 100,\n",
    "    'PHONE_NUM': 4,\n",
    "    'STREET_ADDRESS': 2,\n",
    "    'URL_PERSONAL': 20,\n",
    "    'USERNAME': 5,\n",
    "    'NO_PII': 1000, \n",
    "}\n",
    "\n",
    "# For each class in val_nums, randomly select the specified number of examples and set 'valid' to True\n",
    "for label, num in val_nums.items():\n",
    "    valid_indices = comp_df[comp_df[label] == 1].sample(n=num, random_state=42).index\n",
    "    comp_df.loc[valid_indices, 'valid'] = True\n",
    "\n",
    "\n",
    "# Let's double check the classes per split:\n",
    "for col in label_classes:\n",
    "    print(f'VALID {col}: {comp_df[comp_df.valid == True][col].sum()}')\n",
    "    print(f'TRAIN {col}: {comp_df[comp_df.valid == False][col].sum()}')"
   ]
  },
  {
   "cell_type": "markdown",
   "id": "194cff1e",
   "metadata": {
    "papermill": {
     "duration": 0.011062,
     "end_time": "2024-02-26T02:41:45.429751",
     "exception": false,
     "start_time": "2024-02-26T02:41:45.418689",
     "status": "completed"
    },
    "tags": []
   },
   "source": [
    "### Extending Training Data"
   ]
  },
  {
   "cell_type": "code",
   "execution_count": 10,
   "id": "eb7f9a72",
   "metadata": {
    "execution": {
     "iopub.execute_input": "2024-02-26T02:41:45.454321Z",
     "iopub.status.busy": "2024-02-26T02:41:45.453907Z",
     "iopub.status.idle": "2024-02-26T02:41:45.460166Z",
     "shell.execute_reply": "2024-02-26T02:41:45.459031Z"
    },
    "papermill": {
     "duration": 0.021267,
     "end_time": "2024-02-26T02:41:45.462513",
     "exception": false,
     "start_time": "2024-02-26T02:41:45.441246",
     "status": "completed"
    },
    "tags": []
   },
   "outputs": [],
   "source": [
    "pjm_df[\"valid\"] = False\n",
    "nbroad_df[\"valid\"] = False\n",
    "moth_df[\"valid\"] = False\n",
    "valentin_df[\"valid\"] = False\n",
    "nfjl_df[\"valid\"] = False\n",
    "mpware_df[\"valid\"] = False\n",
    "dileep_df[\"valid\"] = False\n",
    "newton_df[\"valid\"] = False"
   ]
  },
  {
   "cell_type": "code",
   "execution_count": 11,
   "id": "6be38113",
   "metadata": {
    "execution": {
     "iopub.execute_input": "2024-02-26T02:41:45.486969Z",
     "iopub.status.busy": "2024-02-26T02:41:45.486548Z",
     "iopub.status.idle": "2024-02-26T02:41:45.493854Z",
     "shell.execute_reply": "2024-02-26T02:41:45.492971Z"
    },
    "papermill": {
     "duration": 0.022316,
     "end_time": "2024-02-26T02:41:45.496189",
     "exception": false,
     "start_time": "2024-02-26T02:41:45.473873",
     "status": "completed"
    },
    "tags": []
   },
   "outputs": [],
   "source": [
    "comp_df[\"source\"] = \"Competition\"\n",
    "pjm_df[\"source\"] = \"PJ-Mathematician\"\n",
    "nbroad_df[\"source\"] = \"Nicholas\"\n",
    "moth_df[\"source\"] = \"Moth\"\n",
    "valentin_df[\"source\"] = \"Valentin\"\n",
    "nfjl_df[\"source\"] = \"No-fit-just-luck\"\n",
    "mpware_df[\"source\"] = \"MPWare\"\n",
    "dileep_df[\"source\"] = \"Dileep\"\n",
    "newton_df[\"source\"] = \"Newton\""
   ]
  },
  {
   "cell_type": "code",
   "execution_count": 12,
   "id": "c543d213",
   "metadata": {
    "execution": {
     "iopub.execute_input": "2024-02-26T02:41:45.521212Z",
     "iopub.status.busy": "2024-02-26T02:41:45.520260Z",
     "iopub.status.idle": "2024-02-26T02:41:45.537374Z",
     "shell.execute_reply": "2024-02-26T02:41:45.536250Z"
    },
    "papermill": {
     "duration": 0.031959,
     "end_time": "2024-02-26T02:41:45.539636",
     "exception": false,
     "start_time": "2024-02-26T02:41:45.507677",
     "status": "completed"
    },
    "tags": []
   },
   "outputs": [
    {
     "data": {
      "text/plain": [
       "(37512, 16)"
      ]
     },
     "execution_count": 12,
     "metadata": {},
     "output_type": "execute_result"
    }
   ],
   "source": [
    "df = pd.concat([comp_df, nbroad_df, moth_df, nfjl_df, mpware_df, pjm_df, dileep_df, valentin_df, newton_df])\n",
    "df = df.sample(frac=1, random_state=42)\n",
    "df.shape"
   ]
  },
  {
   "cell_type": "code",
   "execution_count": 13,
   "id": "8665d69f",
   "metadata": {},
   "outputs": [
    {
     "data": {
      "text/plain": [
       "((1146, 16), (36366, 16))"
      ]
     },
     "execution_count": 13,
     "metadata": {},
     "output_type": "execute_result"
    }
   ],
   "source": [
    "df[df.valid == True].shape, df[df.valid==False].shape"
   ]
  },
  {
   "cell_type": "code",
   "execution_count": 14,
   "id": "24e41f39",
   "metadata": {
    "execution": {
     "iopub.execute_input": "2024-02-26T02:41:45.565627Z",
     "iopub.status.busy": "2024-02-26T02:41:45.564870Z",
     "iopub.status.idle": "2024-02-26T02:41:45.590041Z",
     "shell.execute_reply": "2024-02-26T02:41:45.588844Z"
    },
    "papermill": {
     "duration": 0.040621,
     "end_time": "2024-02-26T02:41:45.592544",
     "exception": false,
     "start_time": "2024-02-26T02:41:45.551923",
     "status": "completed"
    },
    "tags": []
   },
   "outputs": [
    {
     "data": {
      "text/html": [
       "<div>\n",
       "<style scoped>\n",
       "    .dataframe tbody tr th:only-of-type {\n",
       "        vertical-align: middle;\n",
       "    }\n",
       "\n",
       "    .dataframe tbody tr th {\n",
       "        vertical-align: top;\n",
       "    }\n",
       "\n",
       "    .dataframe thead th {\n",
       "        text-align: right;\n",
       "    }\n",
       "</style>\n",
       "<table border=\"1\" class=\"dataframe\">\n",
       "  <thead>\n",
       "    <tr style=\"text-align: right;\">\n",
       "      <th></th>\n",
       "      <th>document</th>\n",
       "      <th>full_text</th>\n",
       "      <th>tokens</th>\n",
       "      <th>trailing_whitespace</th>\n",
       "      <th>labels</th>\n",
       "      <th>unique_labels</th>\n",
       "      <th>EMAIL</th>\n",
       "      <th>ID_NUM</th>\n",
       "      <th>NAME_STUDENT</th>\n",
       "      <th>PHONE_NUM</th>\n",
       "      <th>STREET_ADDRESS</th>\n",
       "      <th>URL_PERSONAL</th>\n",
       "      <th>USERNAME</th>\n",
       "      <th>NO_PII</th>\n",
       "      <th>valid</th>\n",
       "      <th>source</th>\n",
       "    </tr>\n",
       "  </thead>\n",
       "  <tbody>\n",
       "    <tr>\n",
       "      <th>400</th>\n",
       "      <td>NaN</td>\n",
       "      <td>In today's digital age, our personal informati...</td>\n",
       "      <td>[In, today, 's, digital, age, ,, our, personal...</td>\n",
       "      <td>[True, False, True, True, False, True, True, T...</td>\n",
       "      <td>[O, O, O, O, O, B-PHONE_NUM, O, O, O, O, O, O,...</td>\n",
       "      <td>[PHONE_NUM]</td>\n",
       "      <td>0</td>\n",
       "      <td>0.0</td>\n",
       "      <td>0</td>\n",
       "      <td>1</td>\n",
       "      <td>0</td>\n",
       "      <td>0</td>\n",
       "      <td>0</td>\n",
       "      <td>0</td>\n",
       "      <td>False</td>\n",
       "      <td>Newton</td>\n",
       "    </tr>\n",
       "    <tr>\n",
       "      <th>4346</th>\n",
       "      <td>fab1df9d-2df9-4ed2-b6ea-f6ecc365aa73</td>\n",
       "      <td>As a salesperson named Joel Rousseau, I strive...</td>\n",
       "      <td>[As, a, salesperson, named, Joel, Rousseau, ,,...</td>\n",
       "      <td>[True, True, True, True, True, False, True, Tr...</td>\n",
       "      <td>[O, O, O, O, B-NAME_STUDENT, I-NAME_STUDENT, O...</td>\n",
       "      <td>[STREET_ADDRESS, NAME_STUDENT, EMAIL]</td>\n",
       "      <td>1</td>\n",
       "      <td>NaN</td>\n",
       "      <td>1</td>\n",
       "      <td>0</td>\n",
       "      <td>1</td>\n",
       "      <td>0</td>\n",
       "      <td>0</td>\n",
       "      <td>0</td>\n",
       "      <td>False</td>\n",
       "      <td>PJ-Mathematician</td>\n",
       "    </tr>\n",
       "    <tr>\n",
       "      <th>1195</th>\n",
       "      <td>42534cc4-e5cd-4b4a-b7d2-f11caf1d6228</td>\n",
       "      <td>My name is Ming Neumann, and I've been a mecha...</td>\n",
       "      <td>[My, name, is, Ming, Neumann, ,, and, I, 've, ...</td>\n",
       "      <td>[True, True, True, True, False, True, True, Fa...</td>\n",
       "      <td>[O, O, O, B-NAME_STUDENT, I-NAME_STUDENT, O, O...</td>\n",
       "      <td>[PHONE_NUM, STREET_ADDRESS, NAME_STUDENT, EMAIL]</td>\n",
       "      <td>1</td>\n",
       "      <td>NaN</td>\n",
       "      <td>1</td>\n",
       "      <td>1</td>\n",
       "      <td>1</td>\n",
       "      <td>0</td>\n",
       "      <td>0</td>\n",
       "      <td>0</td>\n",
       "      <td>False</td>\n",
       "      <td>PJ-Mathematician</td>\n",
       "    </tr>\n",
       "  </tbody>\n",
       "</table>\n",
       "</div>"
      ],
      "text/plain": [
       "                                  document  \\\n",
       "400                                    NaN   \n",
       "4346  fab1df9d-2df9-4ed2-b6ea-f6ecc365aa73   \n",
       "1195  42534cc4-e5cd-4b4a-b7d2-f11caf1d6228   \n",
       "\n",
       "                                              full_text  \\\n",
       "400   In today's digital age, our personal informati...   \n",
       "4346  As a salesperson named Joel Rousseau, I strive...   \n",
       "1195  My name is Ming Neumann, and I've been a mecha...   \n",
       "\n",
       "                                                 tokens  \\\n",
       "400   [In, today, 's, digital, age, ,, our, personal...   \n",
       "4346  [As, a, salesperson, named, Joel, Rousseau, ,,...   \n",
       "1195  [My, name, is, Ming, Neumann, ,, and, I, 've, ...   \n",
       "\n",
       "                                    trailing_whitespace  \\\n",
       "400   [True, False, True, True, False, True, True, T...   \n",
       "4346  [True, True, True, True, True, False, True, Tr...   \n",
       "1195  [True, True, True, True, False, True, True, Fa...   \n",
       "\n",
       "                                                 labels  \\\n",
       "400   [O, O, O, O, O, B-PHONE_NUM, O, O, O, O, O, O,...   \n",
       "4346  [O, O, O, O, B-NAME_STUDENT, I-NAME_STUDENT, O...   \n",
       "1195  [O, O, O, B-NAME_STUDENT, I-NAME_STUDENT, O, O...   \n",
       "\n",
       "                                         unique_labels  EMAIL  ID_NUM  \\\n",
       "400                                        [PHONE_NUM]      0     0.0   \n",
       "4346             [STREET_ADDRESS, NAME_STUDENT, EMAIL]      1     NaN   \n",
       "1195  [PHONE_NUM, STREET_ADDRESS, NAME_STUDENT, EMAIL]      1     NaN   \n",
       "\n",
       "      NAME_STUDENT  PHONE_NUM  STREET_ADDRESS  URL_PERSONAL  USERNAME  NO_PII  \\\n",
       "400              0          1               0             0         0       0   \n",
       "4346             1          0               1             0         0       0   \n",
       "1195             1          1               1             0         0       0   \n",
       "\n",
       "      valid            source  \n",
       "400   False            Newton  \n",
       "4346  False  PJ-Mathematician  \n",
       "1195  False  PJ-Mathematician  "
      ]
     },
     "execution_count": 14,
     "metadata": {},
     "output_type": "execute_result"
    }
   ],
   "source": [
    "df.head(3)"
   ]
  },
  {
   "cell_type": "code",
   "execution_count": 15,
   "id": "6524ff31",
   "metadata": {
    "execution": {
     "iopub.execute_input": "2024-02-26T02:41:45.618437Z",
     "iopub.status.busy": "2024-02-26T02:41:45.618010Z",
     "iopub.status.idle": "2024-02-26T02:41:45.645705Z",
     "shell.execute_reply": "2024-02-26T02:41:45.644538Z"
    },
    "papermill": {
     "duration": 0.044031,
     "end_time": "2024-02-26T02:41:45.648619",
     "exception": false,
     "start_time": "2024-02-26T02:41:45.604588",
     "status": "completed"
    },
    "tags": []
   },
   "outputs": [
    {
     "data": {
      "text/plain": [
       "<Axes: >"
      ]
     },
     "execution_count": 15,
     "metadata": {},
     "output_type": "execute_result"
    },
    {
     "data": {
      "image/png": "[encoded data removed]",
      "text/plain": [
       "<Figure size 640x480 with 1 Axes>"
      ]
     },
     "metadata": {},
     "output_type": "display_data"
    }
   ],
   "source": [
    "df[df.valid == False].loc[:, \"EMAIL\":\"USERNAME\"].sum().plot.bar()"
   ]
  },
  {
   "cell_type": "code",
   "execution_count": 16,
   "id": "7ca18607",
   "metadata": {},
   "outputs": [
    {
     "data": {
      "text/plain": [
       "<Axes: >"
      ]
     },
     "execution_count": 16,
     "metadata": {},
     "output_type": "execute_result"
    },
    {
     "data": {
      "image/png": "[encoded data removed]",
      "text/plain": [
       "<Figure size 640x480 with 1 Axes>"
      ]
     },
     "metadata": {},
     "output_type": "display_data"
    }
   ],
   "source": [
    "df[df.source == \"Competition\"].loc[:, \"EMAIL\":\"USERNAME\"].sum().plot.bar()"
   ]
  },
  {
   "cell_type": "markdown",
   "id": "ede52644",
   "metadata": {
    "papermill": {
     "duration": 0.012236,
     "end_time": "2024-02-26T02:41:45.948453",
     "exception": false,
     "start_time": "2024-02-26T02:41:45.936217",
     "status": "completed"
    },
    "tags": []
   },
   "source": [
    "Setting `document` column to be the index number"
   ]
  },
  {
   "cell_type": "code",
   "execution_count": 17,
   "id": "5c73b6d2",
   "metadata": {
    "execution": {
     "iopub.execute_input": "2024-02-26T02:41:45.976035Z",
     "iopub.status.busy": "2024-02-26T02:41:45.975619Z",
     "iopub.status.idle": "2024-02-26T02:41:45.981028Z",
     "shell.execute_reply": "2024-02-26T02:41:45.979880Z"
    },
    "papermill": {
     "duration": 0.021498,
     "end_time": "2024-02-26T02:41:45.983112",
     "exception": false,
     "start_time": "2024-02-26T02:41:45.961614",
     "status": "completed"
    },
    "tags": []
   },
   "outputs": [],
   "source": [
    "df[\"document\"] = df.index.astype(int)"
   ]
  },
  {
   "cell_type": "code",
   "execution_count": 18,
   "id": "9a6dd633",
   "metadata": {
    "execution": {
     "iopub.execute_input": "2024-02-26T02:41:46.011348Z",
     "iopub.status.busy": "2024-02-26T02:41:46.010631Z",
     "iopub.status.idle": "2024-02-26T02:41:46.034673Z",
     "shell.execute_reply": "2024-02-26T02:41:46.033565Z"
    },
    "papermill": {
     "duration": 0.04074,
     "end_time": "2024-02-26T02:41:46.037235",
     "exception": false,
     "start_time": "2024-02-26T02:41:45.996495",
     "status": "completed"
    },
    "tags": []
   },
   "outputs": [
    {
     "data": {
      "text/html": [
       "<div>\n",
       "<style scoped>\n",
       "    .dataframe tbody tr th:only-of-type {\n",
       "        vertical-align: middle;\n",
       "    }\n",
       "\n",
       "    .dataframe tbody tr th {\n",
       "        vertical-align: top;\n",
       "    }\n",
       "\n",
       "    .dataframe thead th {\n",
       "        text-align: right;\n",
       "    }\n",
       "</style>\n",
       "<table border=\"1\" class=\"dataframe\">\n",
       "  <thead>\n",
       "    <tr style=\"text-align: right;\">\n",
       "      <th></th>\n",
       "      <th>document</th>\n",
       "      <th>full_text</th>\n",
       "      <th>tokens</th>\n",
       "      <th>trailing_whitespace</th>\n",
       "      <th>labels</th>\n",
       "      <th>unique_labels</th>\n",
       "      <th>EMAIL</th>\n",
       "      <th>ID_NUM</th>\n",
       "      <th>NAME_STUDENT</th>\n",
       "      <th>PHONE_NUM</th>\n",
       "      <th>STREET_ADDRESS</th>\n",
       "      <th>URL_PERSONAL</th>\n",
       "      <th>USERNAME</th>\n",
       "      <th>NO_PII</th>\n",
       "      <th>valid</th>\n",
       "      <th>source</th>\n",
       "    </tr>\n",
       "  </thead>\n",
       "  <tbody>\n",
       "    <tr>\n",
       "      <th>400</th>\n",
       "      <td>400</td>\n",
       "      <td>In today's digital age, our personal informati...</td>\n",
       "      <td>[In, today, 's, digital, age, ,, our, personal...</td>\n",
       "      <td>[True, False, True, True, False, True, True, T...</td>\n",
       "      <td>[O, O, O, O, O, B-PHONE_NUM, O, O, O, O, O, O,...</td>\n",
       "      <td>[PHONE_NUM]</td>\n",
       "      <td>0</td>\n",
       "      <td>0.0</td>\n",
       "      <td>0</td>\n",
       "      <td>1</td>\n",
       "      <td>0</td>\n",
       "      <td>0</td>\n",
       "      <td>0</td>\n",
       "      <td>0</td>\n",
       "      <td>False</td>\n",
       "      <td>Newton</td>\n",
       "    </tr>\n",
       "    <tr>\n",
       "      <th>4346</th>\n",
       "      <td>4346</td>\n",
       "      <td>As a salesperson named Joel Rousseau, I strive...</td>\n",
       "      <td>[As, a, salesperson, named, Joel, Rousseau, ,,...</td>\n",
       "      <td>[True, True, True, True, True, False, True, Tr...</td>\n",
       "      <td>[O, O, O, O, B-NAME_STUDENT, I-NAME_STUDENT, O...</td>\n",
       "      <td>[STREET_ADDRESS, NAME_STUDENT, EMAIL]</td>\n",
       "      <td>1</td>\n",
       "      <td>NaN</td>\n",
       "      <td>1</td>\n",
       "      <td>0</td>\n",
       "      <td>1</td>\n",
       "      <td>0</td>\n",
       "      <td>0</td>\n",
       "      <td>0</td>\n",
       "      <td>False</td>\n",
       "      <td>PJ-Mathematician</td>\n",
       "    </tr>\n",
       "    <tr>\n",
       "      <th>1195</th>\n",
       "      <td>1195</td>\n",
       "      <td>My name is Ming Neumann, and I've been a mecha...</td>\n",
       "      <td>[My, name, is, Ming, Neumann, ,, and, I, 've, ...</td>\n",
       "      <td>[True, True, True, True, False, True, True, Fa...</td>\n",
       "      <td>[O, O, O, B-NAME_STUDENT, I-NAME_STUDENT, O, O...</td>\n",
       "      <td>[PHONE_NUM, STREET_ADDRESS, NAME_STUDENT, EMAIL]</td>\n",
       "      <td>1</td>\n",
       "      <td>NaN</td>\n",
       "      <td>1</td>\n",
       "      <td>1</td>\n",
       "      <td>1</td>\n",
       "      <td>0</td>\n",
       "      <td>0</td>\n",
       "      <td>0</td>\n",
       "      <td>False</td>\n",
       "      <td>PJ-Mathematician</td>\n",
       "    </tr>\n",
       "  </tbody>\n",
       "</table>\n",
       "</div>"
      ],
      "text/plain": [
       "      document                                          full_text  \\\n",
       "400        400  In today's digital age, our personal informati...   \n",
       "4346      4346  As a salesperson named Joel Rousseau, I strive...   \n",
       "1195      1195  My name is Ming Neumann, and I've been a mecha...   \n",
       "\n",
       "                                                 tokens  \\\n",
       "400   [In, today, 's, digital, age, ,, our, personal...   \n",
       "4346  [As, a, salesperson, named, Joel, Rousseau, ,,...   \n",
       "1195  [My, name, is, Ming, Neumann, ,, and, I, 've, ...   \n",
       "\n",
       "                                    trailing_whitespace  \\\n",
       "400   [True, False, True, True, False, True, True, T...   \n",
       "4346  [True, True, True, True, True, False, True, Tr...   \n",
       "1195  [True, True, True, True, False, True, True, Fa...   \n",
       "\n",
       "                                                 labels  \\\n",
       "400   [O, O, O, O, O, B-PHONE_NUM, O, O, O, O, O, O,...   \n",
       "4346  [O, O, O, O, B-NAME_STUDENT, I-NAME_STUDENT, O...   \n",
       "1195  [O, O, O, B-NAME_STUDENT, I-NAME_STUDENT, O, O...   \n",
       "\n",
       "                                         unique_labels  EMAIL  ID_NUM  \\\n",
       "400                                        [PHONE_NUM]      0     0.0   \n",
       "4346             [STREET_ADDRESS, NAME_STUDENT, EMAIL]      1     NaN   \n",
       "1195  [PHONE_NUM, STREET_ADDRESS, NAME_STUDENT, EMAIL]      1     NaN   \n",
       "\n",
       "      NAME_STUDENT  PHONE_NUM  STREET_ADDRESS  URL_PERSONAL  USERNAME  NO_PII  \\\n",
       "400              0          1               0             0         0       0   \n",
       "4346             1          0               1             0         0       0   \n",
       "1195             1          1               1             0         0       0   \n",
       "\n",
       "      valid            source  \n",
       "400   False            Newton  \n",
       "4346  False  PJ-Mathematician  \n",
       "1195  False  PJ-Mathematician  "
      ]
     },
     "execution_count": 18,
     "metadata": {},
     "output_type": "execute_result"
    }
   ],
   "source": [
    "df.head(3)"
   ]
  },
  {
   "cell_type": "markdown",
   "id": "eb26be1d",
   "metadata": {
    "papermill": {
     "duration": 0.01239,
     "end_time": "2024-02-26T02:41:46.062602",
     "exception": false,
     "start_time": "2024-02-26T02:41:46.050212",
     "status": "completed"
    },
    "tags": []
   },
   "source": [
    "### Truncation with Stride\n",
    "\n",
    "[Reason](https://www.kaggle.com/competitions/pii-detection-removal-from-educational-data/discussion/473011)"
   ]
  },
  {
   "cell_type": "code",
   "execution_count": 19,
   "id": "fe49bf0b",
   "metadata": {
    "execution": {
     "iopub.execute_input": "2024-02-26T02:41:46.089680Z",
     "iopub.status.busy": "2024-02-26T02:41:46.089049Z",
     "iopub.status.idle": "2024-02-26T02:41:46.624258Z",
     "shell.execute_reply": "2024-02-26T02:41:46.623372Z"
    },
    "papermill": {
     "duration": 0.5518,
     "end_time": "2024-02-26T02:41:46.626924",
     "exception": false,
     "start_time": "2024-02-26T02:41:46.075124",
     "status": "completed"
    },
    "tags": []
   },
   "outputs": [],
   "source": [
    "def add_token_indices(doc_tokens):\n",
    "    token_indices = list(range(len(doc_tokens)))\n",
    "    return token_indices\n",
    "\n",
    "df['token_indices'] = df['tokens'].apply(add_token_indices)"
   ]
  },
  {
   "cell_type": "code",
   "execution_count": 20,
   "id": "d7b1d993",
   "metadata": {
    "execution": {
     "iopub.execute_input": "2024-02-26T02:41:46.733194Z",
     "iopub.status.busy": "2024-02-26T02:41:46.732224Z",
     "iopub.status.idle": "2024-02-26T02:41:49.859209Z",
     "shell.execute_reply": "2024-02-26T02:41:49.858047Z"
    },
    "papermill": {
     "duration": 3.143964,
     "end_time": "2024-02-26T02:41:49.861820",
     "exception": false,
     "start_time": "2024-02-26T02:41:46.717856",
     "status": "completed"
    },
    "tags": []
   },
   "outputs": [
    {
     "name": "stdout",
     "output_type": "stream",
     "text": [
      "Length of original data: 37512\n",
      "Length of strided data: 70065\n"
     ]
    }
   ],
   "source": [
    "max_length = 512\n",
    "doc_stride = 192\n",
    "stride_df = split_rows(df, max_length, doc_stride)\n",
    "stride_df, label_classes = encode_labels(stride_df)\n",
    "\n",
    "print(\"Length of original data:\", len(df))\n",
    "print(\"Length of strided data:\", len(stride_df))"
   ]
  },
  {
   "cell_type": "markdown",
   "id": "32365498",
   "metadata": {
    "papermill": {
     "duration": 0.013276,
     "end_time": "2024-02-26T02:41:49.921822",
     "exception": false,
     "start_time": "2024-02-26T02:41:49.908546",
     "status": "completed"
    },
    "tags": []
   },
   "source": [
    "Save as CSV"
   ]
  },
  {
   "cell_type": "code",
   "execution_count": 21,
   "id": "1bb0e886",
   "metadata": {
    "execution": {
     "iopub.execute_input": "2024-02-26T02:41:49.949899Z",
     "iopub.status.busy": "2024-02-26T02:41:49.949310Z",
     "iopub.status.idle": "2024-02-26T02:41:49.953293Z",
     "shell.execute_reply": "2024-02-26T02:41:49.952293Z"
    },
    "papermill": {
     "duration": 0.020403,
     "end_time": "2024-02-26T02:41:49.955450",
     "exception": false,
     "start_time": "2024-02-26T02:41:49.935047",
     "status": "completed"
    },
    "tags": []
   },
   "outputs": [],
   "source": [
    "df.to_csv(\"Dataset/cv_data.csv\", index=False)\n",
    "stride_df.to_csv(\"Dataset/cv_strided_data.csv\", index=False)"
   ]
  },
  {
   "cell_type": "markdown",
   "id": "26c9d0e2",
   "metadata": {},
   "source": [
    "### Weights and Biases"
   ]
  },
  {
   "cell_type": "code",
   "execution_count": 22,
   "id": "9d6d4908",
   "metadata": {},
   "outputs": [
    {
     "name": "stderr",
     "output_type": "stream",
     "text": [
      "Failed to detect the name of this notebook, you can set it manually with the WANDB_NOTEBOOK_NAME environment variable to enable code saving.\n",
      "\u001b[34m\u001b[1mwandb\u001b[0m: Currently logged in as: \u001b[33mshakleenishfar\u001b[0m. Use \u001b[1m`wandb login --relogin`\u001b[0m to force relogin\n",
      "\u001b[34m\u001b[1mwandb\u001b[0m: \u001b[33mWARNING\u001b[0m If you're specifying your api key in code, ensure this code is not shared publicly.\n",
      "\u001b[34m\u001b[1mwandb\u001b[0m: \u001b[33mWARNING\u001b[0m Consider setting the WANDB_API_KEY environment variable, or running `wandb login` from the command line.\n",
      "\u001b[34m\u001b[1mwandb\u001b[0m: Appending key for api.wandb.ai to your netrc file: /home/ishfar/.netrc\n"
     ]
    },
    {
     "data": {
      "text/html": [
       "Tracking run with wandb version 0.16.3"
      ],
      "text/plain": [
       "<IPython.core.display.HTML object>"
      ]
     },
     "metadata": {},
     "output_type": "display_data"
    },
    {
     "data": {
      "text/html": [
       "Run data is saved locally in <code>/media/ishfar/New Volume/Studies/Projects/Kaggle/PII_Detection/wandb/run-20240303_182615-51apj0g2</code>"
      ],
      "text/plain": [
       "<IPython.core.display.HTML object>"
      ]
     },
     "metadata": {},
     "output_type": "display_data"
    },
    {
     "data": {
      "text/html": [
       "Syncing run <strong><a href='https://wandb.ai/shakleenishfar/Kaggle-PII/runs/51apj0g2' target=\"_blank\">toasty-bee-88</a></strong> to <a href='https://wandb.ai/shakleenishfar/Kaggle-PII' target=\"_blank\">Weights & Biases</a> (<a href='https://wandb.me/run' target=\"_blank\">docs</a>)<br/>"
      ],
      "text/plain": [
       "<IPython.core.display.HTML object>"
      ]
     },
     "metadata": {},
     "output_type": "display_data"
    },
    {
     "data": {
      "text/html": [
       " View project at <a href='https://wandb.ai/shakleenishfar/Kaggle-PII' target=\"_blank\">https://wandb.ai/shakleenishfar/Kaggle-PII</a>"
      ],
      "text/plain": [
       "<IPython.core.display.HTML object>"
      ]
     },
     "metadata": {},
     "output_type": "display_data"
    },
    {
     "data": {
      "text/html": [
       " View run at <a href='https://wandb.ai/shakleenishfar/Kaggle-PII/runs/51apj0g2' target=\"_blank\">https://wandb.ai/shakleenishfar/Kaggle-PII/runs/51apj0g2</a>"
      ],
      "text/plain": [
       "<IPython.core.display.HTML object>"
      ]
     },
     "metadata": {},
     "output_type": "display_data"
    },
    {
     "data": {
      "text/html": [
       "<button onClick=\"this.nextSibling.style.display='block';this.style.display='none';\">Display W&B run</button><iframe src='https://wandb.ai/shakleenishfar/Kaggle-PII/runs/51apj0g2?jupyter=true' style='border:none;width:100%;height:420px;display:none;'></iframe>"
      ],
      "text/plain": [
       "<wandb.sdk.wandb_run.Run at 0x7fc34bd52750>"
      ]
     },
     "execution_count": 22,
     "metadata": {},
     "output_type": "execute_result"
    }
   ],
   "source": [
    "import wandb\n",
    "\n",
    "wandb.login(key=\"0bf204609ea345c7c595565d736a9d62ca69f838\")\n",
    "wandb.init(project='Kaggle-PII', job_type='preprocessing')"
   ]
  },
  {
   "cell_type": "code",
   "execution_count": 23,
   "id": "0f957e0d",
   "metadata": {},
   "outputs": [
    {
     "data": {
      "text/plain": [
       "<Artifact processed_data>"
      ]
     },
     "execution_count": 23,
     "metadata": {},
     "output_type": "execute_result"
    }
   ],
   "source": [
    "df.to_parquet('raw_data.parquet', index=False)\n",
    "stride_df.to_parquet('stride_data.parquet', index=False)\n",
    "\n",
    "raw_data = wandb.Artifact(name=\"raw_data\", type=\"dataset\")\n",
    "raw_data.add_file('raw_data.parquet')\n",
    "wandb.log_artifact(raw_data)\n",
    "\n",
    "processed_data = wandb.Artifact(name=\"processed_data\", type=\"dataset\")\n",
    "processed_data.add_file('stride_data.parquet')\n",
    "wandb.log_artifact(processed_data)"
   ]
  },
  {
   "cell_type": "code",
   "execution_count": 24,
   "id": "f813d284",
   "metadata": {},
   "outputs": [],
   "source": [
    "import spacy\n",
    "from spacy.tokens import Span\n",
    "from spacy import displacy\n",
    "\n",
    "nlp = spacy.blank(\"en\")\n",
    "\n",
    "options = {\n",
    "    \"colors\": {\n",
    "        \"B-NAME_STUDENT\": \"aqua\",\n",
    "        \"I-NAME_STUDENT\": \"skyblue\",\n",
    "        \"B-EMAIL\": \"limegreen\",\n",
    "        \"I-EMAIL\": \"lime\",\n",
    "        \"B-USERNAME\": \"hotpink\",\n",
    "        \"I-USERNAME\": \"lightpink\",\n",
    "        \"B-ID_NUM\": \"purple\",\n",
    "        \"I-ID_NUM\": \"rebeccapurple\",\n",
    "        \"B-PHONE_NUM\": \"red\",\n",
    "        \"I-PHONE_NUM\": \"salmon\",\n",
    "        \"B-URL_PERSONAL\": \"silver\",\n",
    "        \"I-URL_PERSONAL\": \"lightgray\",\n",
    "        \"B-STREET_ADDRESS\": \"brown\",\n",
    "        \"I-STREET_ADDRESS\": \"chocolate\",\n",
    "    }\n",
    "}\n",
    "\n",
    "def visualize(row):\n",
    "    doc = nlp(row.full_text)\n",
    "    doc.ents = [\n",
    "        Span(doc, idx, idx + 1, label=label)\n",
    "        for idx, label in enumerate(row.labels)\n",
    "        if label != \"O\"\n",
    "    ]\n",
    "    html = displacy.render(doc, style=\"ent\", jupyter=False, options=options)\n",
    "    return html"
   ]
  },
  {
   "cell_type": "code",
   "execution_count": 25,
   "id": "c82020aa",
   "metadata": {},
   "outputs": [
    {
     "name": "stderr",
     "output_type": "stream",
     "text": [
      "/media/ishfar/New Volume/Studies/Projects/Kaggle/PII_Detection/venv/lib/python3.11/site-packages/spacy/displacy/__init__.py:213: UserWarning: [W006] No entities to visualize found in Doc object. If this is surprising to you, make sure the Doc was processed using a model that supports named entity recognition, and check the `doc.ents` property manually if necessary.\n",
      "  warnings.warn(Warnings.W006)\n"
     ]
    }
   ],
   "source": [
    "wandb_htmls = [wandb.Html(visualize(row)) for _, row in df.iterrows()]\n",
    "df['visualization'] = wandb_htmls\n",
    "table = wandb.Table(dataframe=df)\n",
    "wandb.log({'original_dataset': table})"
   ]
  },
  {
   "cell_type": "code",
   "execution_count": 26,
   "id": "9639be73",
   "metadata": {},
   "outputs": [
    {
     "name": "stderr",
     "output_type": "stream",
     "text": [
      "wandb: WARNING Source type is set to 'repo' but some required information is missing from the environment. A job will not be created from this run. See https://docs.wandb.ai/guides/launch/create-job\n"
     ]
    },
    {
     "data": {
      "application/vnd.jupyter.widget-view+json": {
       "model_id": "a561a74d719643739d1193fcaa6d8ab9",
       "version_major": 2,
       "version_minor": 0
      },
      "text/plain": [
       "VBox(children=(Label(value='321.919 MB of 1289.644 MB uploaded\\r'), FloatProgress(value=0.24961879984540708, m…"
      ]
     },
     "metadata": {},
     "output_type": "display_data"
    },
    {
     "data": {
      "text/html": [
       " View run <strong style=\"color:#cdcd00\">toasty-bee-88</strong> at: <a href='https://wandb.ai/shakleenishfar/Kaggle-PII/runs/51apj0g2' target=\"_blank\">https://wandb.ai/shakleenishfar/Kaggle-PII/runs/51apj0g2</a><br/>Synced 5 W&B file(s), 1 media file(s), 37515 artifact file(s) and 0 other file(s)"
      ],
      "text/plain": [
       "<IPython.core.display.HTML object>"
      ]
     },
     "metadata": {},
     "output_type": "display_data"
    },
    {
     "data": {
      "text/html": [
       "Find logs at: <code>./wandb/run-20240303_182615-51apj0g2/logs</code>"
      ],
      "text/plain": [
       "<IPython.core.display.HTML object>"
      ]
     },
     "metadata": {},
     "output_type": "display_data"
    }
   ],
   "source": [
    "wandb.finish()"
   ]
  }
 ],
 "metadata": {
  "kaggle": {
   "accelerator": "none",
   "dataSources": [
    {
     "databundleVersionId": 7500999,
     "sourceId": 66653,
     "sourceType": "competition"
    },
    {
     "datasetId": 4379849,
     "sourceId": 7518925,
     "sourceType": "datasetVersion"
    },
    {
     "datasetId": 4408977,
     "sourceId": 7583610,
     "sourceType": "datasetVersion"
    },
    {
     "sourceId": 163088908,
     "sourceType": "kernelVersion"
    }
   ],
   "dockerImageVersionId": 30646,
   "isGpuEnabled": false,
   "isInternetEnabled": true,
   "language": "python",
   "sourceType": "notebook"
  },
  "kernelspec": {
   "display_name": "Python 3",
   "language": "python",
   "name": "python3"
  },
  "language_info": {
   "codemirror_mode": {
    "name": "ipython",
    "version": 3
   },
   "file_extension": ".py",
   "mimetype": "text/x-python",
   "name": "python",
   "nbconvert_exporter": "python",
   "pygments_lexer": "ipython3",
   "version": "3.11.8"
  },
  "papermill": {
   "default_parameters": {},
   "duration": 75.599502,
   "end_time": "2024-02-26T02:42:47.597930",
   "environment_variables": {},
   "exception": null,
   "input_path": "__notebook__.ipynb",
   "output_path": "__notebook__.ipynb",
   "parameters": {},
   "start_time": "2024-02-26T02:41:31.998428",
   "version": "2.5.0"
  }
 },
 "nbformat": 4,
 "nbformat_minor": 5
}
